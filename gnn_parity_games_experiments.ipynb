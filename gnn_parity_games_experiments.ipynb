{
 "cells": [
  {
   "cell_type": "markdown",
   "metadata": {},
   "source": [
    "# GNN for Parity Games Experiments"
   ]
  },
  {
   "cell_type": "markdown",
   "metadata": {},
   "source": [
    "## Raw Training Data Creation"
   ]
  },
  {
   "cell_type": "markdown",
   "metadata": {},
   "source": [
    "**07 July 2022**\n",
    "\n",
    "- Num games: 3000\n",
    "- Graph size (N) range: [10,200]\n",
    "- Relative outdegree $(\\frac{d_i}{N})$ range: [0.01,0.5]\n",
    "- Priority range: [0,N]"
   ]
  },
  {
   "cell_type": "code",
   "execution_count": 1,
   "metadata": {},
   "outputs": [],
   "source": [
    "num_graphs = 3000\n",
    "min_n = 10\n",
    "max_n = 200\n",
    "min_rod = 0.01\n",
    "max_rod = 0.5\n",
    "\n",
    "games_dir = 'games'\n",
    "solutions_dir = 'solutions'\n",
    "pgsolver_base = 'pgsolver' # Path to compiled base dir of https://github.com/tcsprojects/pgsolver "
   ]
  },
  {
   "cell_type": "code",
   "execution_count": 2,
   "metadata": {},
   "outputs": [],
   "source": [
    "#import game_generator as gg\n",
    "\n",
    "#gg.create_games_and_solutions(num_graphs, min_n, max_n, min_rod, max_rod, games_dir, solutions_dir, pgsolver_base)"
   ]
  },
  {
   "cell_type": "markdown",
   "metadata": {},
   "source": [
    "## Prepare Training"
   ]
  },
  {
   "cell_type": "code",
   "execution_count": 3,
   "metadata": {},
   "outputs": [],
   "source": [
    "from torch_geometric.loader import DataLoader\n",
    "from parity_game_dataset import ParityGameDataset\n",
    "import math\n",
    "\n",
    "data = ParityGameDataset('pg_data_20220708', 'games', 'solutions')\n",
    "\n",
    "# Use first 70% of the data for training\n",
    "split_index = math.floor(0.7 * len(data))\n",
    "train_data = data[:split_index]\n",
    "test_data = data[split_index:]\n",
    "\n",
    "train_loader = DataLoader(train_data, batch_size=5, shuffle=True)\n",
    "test_loader = DataLoader(test_data, batch_size=5, shuffle=False)\n",
    "\n"
   ]
  },
  {
   "cell_type": "markdown",
   "metadata": {},
   "source": [
    "**Training Parameters**\n",
    "\n",
    "- optimizer: Adam\n",
    "- Learning rate: 0.001\n",
    "- Loss: Cross Entropy\n",
    "- Epochs: 1-100"
   ]
  },
  {
   "cell_type": "markdown",
   "metadata": {},
   "source": [
    "## Prepare model"
   ]
  },
  {
   "cell_type": "markdown",
   "metadata": {},
   "source": [
    "**Parameters**\n",
    "\n",
    "- Iterations: 10\n",
    "- ..."
   ]
  },
  {
   "cell_type": "code",
   "execution_count": 62,
   "metadata": {},
   "outputs": [],
   "source": [
    "from importlib import reload\n",
    "import parity_game_network as pn\n",
    "#from parity_game_network import ParityGameNetwork\n",
    "reload(pn)\n",
    "model = pn.ParityGameNetwork(256, 256, 10)\n",
    "#model = pn.ParityGameNetwork(128, 128, 5)"
   ]
  },
  {
   "cell_type": "code",
   "execution_count": 63,
   "metadata": {},
   "outputs": [
    {
     "data": {
      "text/plain": [
       "ParityGameNetwork(\n",
       "  (core): GAT(3, 256, num_layers=10)\n",
       "  (node_classifier): Sequential(\n",
       "    (0): Linear(in_features=256, out_features=256, bias=True)\n",
       "    (1): ReLU()\n",
       "    (2): Dropout(p=0.2, inplace=False)\n",
       "    (3): Linear(in_features=256, out_features=2, bias=True)\n",
       "    (4): Softmax(dim=1)\n",
       "  )\n",
       "  (edge_classifier): Sequential(\n",
       "    (0): Linear(in_features=512, out_features=256, bias=True)\n",
       "    (1): ReLU()\n",
       "    (2): Dropout(p=0.2, inplace=False)\n",
       "    (3): Linear(in_features=256, out_features=2, bias=True)\n",
       "    (4): Softmax(dim=1)\n",
       "  )\n",
       ")"
      ]
     },
     "execution_count": 63,
     "metadata": {},
     "output_type": "execute_result"
    }
   ],
   "source": [
    "model"
   ]
  },
  {
   "cell_type": "markdown",
   "metadata": {},
   "source": [
    "# Run Training Loop"
   ]
  },
  {
   "cell_type": "code",
   "execution_count": 64,
   "metadata": {},
   "outputs": [
    {
     "data": {
      "text/html": [
       "Finishing last run (ID:2hkc046n) before initializing another..."
      ],
      "text/plain": [
       "<IPython.core.display.HTML object>"
      ]
     },
     "metadata": {},
     "output_type": "display_data"
    },
    {
     "data": {
      "text/html": [
       "Waiting for W&B process to finish... <strong style=\"color:green\">(success).</strong>"
      ],
      "text/plain": [
       "<IPython.core.display.HTML object>"
      ]
     },
     "metadata": {},
     "output_type": "display_data"
    },
    {
     "data": {
      "application/vnd.jupyter.widget-view+json": {
       "model_id": "",
       "version_major": 2,
       "version_minor": 0
      },
      "text/plain": [
       "VBox(children=(Label(value='0.001 MB of 0.001 MB uploaded (0.000 MB deduped)\\r'), FloatProgress(value=1.0, max…"
      ]
     },
     "metadata": {},
     "output_type": "display_data"
    },
    {
     "data": {
      "text/html": [
       "<style>\n",
       "    table.wandb td:nth-child(1) { padding: 0 10px; text-align: left ; width: auto;} td:nth-child(2) {text-align: left ; width: 100%}\n",
       "    .wandb-row { display: flex; flex-direction: row; flex-wrap: wrap; justify-content: flex-start; width: 100% }\n",
       "    .wandb-col { display: flex; flex-direction: column; flex-basis: 100%; flex: 1; padding: 10px; }\n",
       "    </style>\n",
       "<div class=\"wandb-row\"><div class=\"wandb-col\"><h3>Run history:</h3><br/><table class=\"wandb\"><tr><td>Acc_Acc_Nodes</td><td>▁</td></tr><tr><td>Epoch</td><td>▁</td></tr><tr><td>Test_Acc_Edges</td><td>▁</td></tr><tr><td>Test_Acc_Nodes</td><td>▁</td></tr><tr><td>Train_Acc_Edges</td><td>▁</td></tr><tr><td>loss</td><td>█▄▂▁▁▁▁▁</td></tr><tr><td>variance</td><td>▁▃▆█▇█▇▆</td></tr></table><br/></div><div class=\"wandb-col\"><h3>Run summary:</h3><br/><table class=\"wandb\"><tr><td>Acc_Acc_Nodes</td><td>0.59897</td></tr><tr><td>Epoch</td><td>1</td></tr><tr><td>Test_Acc_Edges</td><td>0.96849</td></tr><tr><td>Test_Acc_Nodes</td><td>0.59813</td></tr><tr><td>Train_Acc_Edges</td><td>0.96865</td></tr><tr><td>loss</td><td>1.00177</td></tr><tr><td>variance</td><td>0.04154</td></tr></table><br/></div></div>"
      ],
      "text/plain": [
       "<IPython.core.display.HTML object>"
      ]
     },
     "metadata": {},
     "output_type": "display_data"
    },
    {
     "data": {
      "text/html": [
       "Synced <strong style=\"color:#cdcd00\">worthy-snowflake-9</strong>: <a href=\"https://wandb.ai/thecking/gnn_parity_game_solver/runs/2hkc046n\" target=\"_blank\">https://wandb.ai/thecking/gnn_parity_game_solver/runs/2hkc046n</a><br/>Synced 6 W&B file(s), 0 media file(s), 0 artifact file(s) and 0 other file(s)"
      ],
      "text/plain": [
       "<IPython.core.display.HTML object>"
      ]
     },
     "metadata": {},
     "output_type": "display_data"
    },
    {
     "data": {
      "text/html": [
       "Find logs at: <code>./wandb/run-20220914_180030-2hkc046n/logs</code>"
      ],
      "text/plain": [
       "<IPython.core.display.HTML object>"
      ]
     },
     "metadata": {},
     "output_type": "display_data"
    },
    {
     "data": {
      "text/html": [
       "Successfully finished last run (ID:2hkc046n). Initializing new run:<br/>"
      ],
      "text/plain": [
       "<IPython.core.display.HTML object>"
      ]
     },
     "metadata": {},
     "output_type": "display_data"
    },
    {
     "data": {
      "text/html": [
       "wandb version 0.13.3 is available!  To upgrade, please run:\n",
       " $ pip install wandb --upgrade"
      ],
      "text/plain": [
       "<IPython.core.display.HTML object>"
      ]
     },
     "metadata": {},
     "output_type": "display_data"
    },
    {
     "data": {
      "text/html": [
       "Tracking run with wandb version 0.12.18"
      ],
      "text/plain": [
       "<IPython.core.display.HTML object>"
      ]
     },
     "metadata": {},
     "output_type": "display_data"
    },
    {
     "data": {
      "text/html": [
       "Run data is saved locally in <code>/home/heck_ti/Forschung/gnn_pr_solver/wandb/run-20220914_181628-1xal2792</code>"
      ],
      "text/plain": [
       "<IPython.core.display.HTML object>"
      ]
     },
     "metadata": {},
     "output_type": "display_data"
    },
    {
     "data": {
      "text/html": [
       "Syncing run <strong><a href=\"https://wandb.ai/thecking/gnn_parity_game_solver/runs/1xal2792\" target=\"_blank\">absurd-armadillo-10</a></strong> to <a href=\"https://wandb.ai/thecking/gnn_parity_game_solver\" target=\"_blank\">Weights & Biases</a> (<a href=\"https://wandb.me/run\" target=\"_blank\">docs</a>)<br/>"
      ],
      "text/plain": [
       "<IPython.core.display.HTML object>"
      ]
     },
     "metadata": {},
     "output_type": "display_data"
    },
    {
     "data": {
      "text/plain": [
       "[]"
      ]
     },
     "execution_count": 64,
     "metadata": {},
     "output_type": "execute_result"
    }
   ],
   "source": [
    "import wandb\n",
    "wandb.init(project='gnn_parity_game_solver')\n",
    "config = wandb.config\n",
    "config.learning_rate = 0.001\n",
    "\n",
    "wandb.watch(model, log='all')"
   ]
  },
  {
   "cell_type": "code",
   "execution_count": 65,
   "metadata": {},
   "outputs": [
    {
     "name": "stdout",
     "output_type": "stream",
     "text": [
      "Epoch: 001, Train Acc Nodes: 0.9834, Test Acc Nodes: 0.9823, Train Acc Edges: 0.9686, Test Acc Edges: 0.9683\n"
     ]
    }
   ],
   "source": [
    "import torch\n",
    "import numpy as np\n",
    "optimizer = torch.optim.Adam(model.parameters(), lr=0.001)\n",
    "criterion_nodes = torch.nn.CrossEntropyLoss()\n",
    "criterion_edges = torch.nn.CrossEntropyLoss(weight=torch.tensor([0.1,0.9]))\n",
    "\n",
    "def train():\n",
    "    running_loss = 0.\n",
    "    i = 0\n",
    "    model.train()\n",
    "\n",
    "    for data in train_loader:  # Iterate in batches over the training dataset.\n",
    "        i += 1\n",
    "        optimizer.zero_grad()  # Clear gradients.\n",
    "        out_nodes, out_edges = model(data.x, data.edge_index)  # Perform a single forward pass.\n",
    "        \n",
    "        # Most edges do not belong to a winning strategy and thus the data is extemely imbalanced. The model will probably learn that predicting always \"non-winning\" for each edge \n",
    "        # yields reasonable performance. To avoid this, approximately as many non-winning strategy edges are sampled as there are winning edges.\n",
    "        #edge_selection = (torch.rand(data.y_edges.shape[0]) > 0.7) | (data.y_edges == 1)\n",
    "        loss = criterion_nodes(out_nodes, data.y_nodes) + criterion_edges(out_edges, data.y_edges) # Compute the loss.\n",
    "        loss.backward()  # Derive gradients.\n",
    "        optimizer.step()  # Update parameters based on gradients.\n",
    "        \n",
    "        running_loss += loss.item()\n",
    "        if i % 50 == 0:\n",
    "            last_loss = running_loss / 50 # loss per batch\n",
    "            wandb.log({'loss': last_loss, 'variance': torch.var(out_nodes[:,1])})\n",
    "            running_loss = 0.\n",
    "            \n",
    "def test(loader):\n",
    "     model.eval()\n",
    "\n",
    "     correct_nodes = 0\n",
    "     correct_edges = 0\n",
    "\n",
    "     for data in loader:  # Iterate in batches over the training/test dataset.\n",
    "        out_nodes, out_edges = model(data.x, data.edge_index)  \n",
    "        pred_nodes = out_nodes.argmax(dim=1)  # Use the class with highest probability.\n",
    "        pred_edges = out_edges.argmax(dim=1)  # Use the class with highest probability.\n",
    "        correct_nodes += (pred_nodes == data.y_nodes).sum() / len(pred_nodes)  # Check against ground-truth labels.\n",
    "        correct_edges += (pred_edges == data.y_edges).sum() / len(pred_edges)\n",
    "     return (correct_nodes / len(loader), correct_edges / len(loader))  # Derive ratio of correct predictions.\n",
    "\n",
    "for epoch in range(1, 2):\n",
    "    train()\n",
    "    train_acc_nodes, train_acc_edges = test(train_loader)\n",
    "    test_acc_nodes, test_acc_edges = test(test_loader)\n",
    "    wandb.log({'Epoch': epoch, 'Acc_Acc_Nodes': train_acc_nodes, 'Test_Acc_Nodes': test_acc_nodes, 'Train_Acc_Edges': train_acc_edges, 'Test_Acc_Edges': test_acc_edges}) \n",
    "    print(f'Epoch: {epoch:03d}, Train Acc Nodes: {train_acc_nodes:.4f}, Test Acc Nodes: {test_acc_nodes:.4f}, Train Acc Edges: {train_acc_edges:.4f}, Test Acc Edges: {test_acc_edges:.4f}')"
   ]
  },
  {
   "cell_type": "markdown",
   "metadata": {},
   "source": [
    "*Saving the following model:*\n",
    "- Performance: Epoch: 001, Train Acc Nodes: 0.9832, Test Acc Nodes: 0.9824, Train Acc Edges: 0.9687, Test Acc Edges: 0.9685"
   ]
  },
  {
   "cell_type": "code",
   "execution_count": 16,
   "metadata": {},
   "outputs": [
    {
     "name": "stdout",
     "output_type": "stream",
     "text": [
      "ParityGameNetwork(\n",
      "  (core): GAT(3, 256, num_layers=10)\n",
      "  (node_classifier): Sequential(\n",
      "    (0): Linear(in_features=256, out_features=256, bias=True)\n",
      "    (1): ReLU()\n",
      "    (2): Dropout(p=0.2, inplace=False)\n",
      "    (3): Linear(in_features=256, out_features=2, bias=True)\n",
      "    (4): Softmax(dim=1)\n",
      "  )\n",
      "  (edge_classifier): Sequential(\n",
      "    (0): Linear(in_features=512, out_features=256, bias=True)\n",
      "    (1): ReLU()\n",
      "    (2): Dropout(p=0.2, inplace=False)\n",
      "    (3): Linear(in_features=256, out_features=2, bias=True)\n",
      "    (4): Softmax(dim=1)\n",
      "  )\n",
      ")\n"
     ]
    }
   ],
   "source": [
    "print(model)"
   ]
  },
  {
   "cell_type": "code",
   "execution_count": 73,
   "metadata": {},
   "outputs": [],
   "source": [
    "torch.save(model.state_dict(), 'GAT_pg_solver_20220914.pth')"
   ]
  },
  {
   "cell_type": "markdown",
   "metadata": {},
   "source": [
    "## Model application example"
   ]
  },
  {
   "cell_type": "code",
   "execution_count": 74,
   "metadata": {},
   "outputs": [],
   "source": [
    "it = iter(test_loader)\n",
    "next(it)\n",
    "example_game = next(it)\n",
    "out_nodes, out_edges = model(example_game.x, example_game.edge_index) \n",
    "pred_nodes = out_nodes.argmax(dim=1)\n",
    "pred_edges = out_edges.argmax(dim=1)"
   ]
  },
  {
   "cell_type": "markdown",
   "metadata": {},
   "source": [
    "### Output 1: Winning reagions of players 0 and 1"
   ]
  },
  {
   "cell_type": "markdown",
   "metadata": {},
   "source": [
    "**Predicted regions**"
   ]
  },
  {
   "cell_type": "code",
   "execution_count": 75,
   "metadata": {},
   "outputs": [
    {
     "data": {
      "text/plain": [
       "tensor([0, 0, 1, 1, 0, 0, 0, 1, 1, 1, 1, 1, 1, 1, 0, 1, 1, 0, 0, 0, 1, 1, 1, 0,\n",
       "        0, 0, 0, 1, 0, 0, 0, 0, 0, 0, 0, 0, 0, 0, 1, 1, 0, 0, 0, 1, 0, 0, 1, 1,\n",
       "        0, 1, 1, 1, 1, 0, 1, 0, 1, 0, 0, 0, 1, 0, 1, 1, 1, 0, 1, 0, 1, 1, 1, 1,\n",
       "        1, 1, 1, 0, 0, 1, 0, 0, 1, 1, 0, 0, 0, 0, 1, 0, 0, 0, 0, 1, 1, 0, 1, 1,\n",
       "        1, 1, 1, 0, 0, 1, 1, 0, 1, 1, 1, 0, 0, 0, 0, 0, 1, 0, 1, 0, 1, 1, 0, 1,\n",
       "        0, 1, 1, 0, 0, 1, 1, 0, 1, 1, 0, 0, 1, 1, 0, 1, 1, 1, 1, 1, 1, 1, 1, 1,\n",
       "        0, 0, 1, 0, 0, 0, 1, 1, 0, 1, 1, 1, 0, 1, 1, 0, 0, 1, 1, 1, 0, 1, 0, 0,\n",
       "        0, 0, 0, 0, 0, 0, 1, 0, 0, 0, 1, 0, 1, 0, 0, 1, 0, 1, 1, 1, 0, 1, 0, 1,\n",
       "        1, 0, 1, 1, 1, 0, 0, 1, 1, 0, 1, 0, 1, 0, 0, 1, 0, 0, 1, 1, 0, 1, 0, 0,\n",
       "        0, 1, 0, 1, 1, 1, 0, 1, 0, 0, 1, 1, 1, 1, 1, 1, 0, 1, 0, 1, 1, 0, 0, 0,\n",
       "        1, 1, 0, 0, 0, 0, 1, 1, 1, 1, 1, 0, 1, 0, 1, 0, 0, 1, 0, 1, 1, 0, 1, 0,\n",
       "        1, 0, 0, 1, 1, 1, 0, 0, 0, 1, 0, 1, 1, 1, 1, 0, 1, 1, 0, 0, 0, 0, 0, 0,\n",
       "        1, 1, 1, 0, 1, 1, 0, 1, 1, 1, 0, 1, 0, 1, 0, 1, 0, 0, 0, 0, 0, 1, 0, 1,\n",
       "        0, 1, 0, 1, 0, 1, 0, 0, 0, 1, 0, 0, 1, 0, 0, 0, 1, 0, 0, 1, 1, 0, 1, 0])"
      ]
     },
     "execution_count": 75,
     "metadata": {},
     "output_type": "execute_result"
    }
   ],
   "source": [
    "pred_nodes"
   ]
  },
  {
   "cell_type": "markdown",
   "metadata": {},
   "source": [
    "**Actual winning regions (Calculated by pgsolver)**"
   ]
  },
  {
   "cell_type": "code",
   "execution_count": 76,
   "metadata": {},
   "outputs": [
    {
     "data": {
      "text/plain": [
       "tensor([0, 1, 1, 1, 0, 1, 0, 1, 1, 1, 1, 1, 1, 1, 1, 1, 1, 0, 0, 0, 1, 1, 1, 0,\n",
       "        0, 0, 0, 0, 0, 0, 0, 0, 0, 0, 0, 0, 0, 0, 0, 0, 0, 0, 0, 0, 0, 0, 1, 1,\n",
       "        0, 1, 1, 1, 1, 0, 1, 0, 1, 0, 0, 0, 1, 0, 1, 1, 1, 0, 1, 0, 1, 1, 1, 1,\n",
       "        1, 1, 1, 0, 0, 1, 0, 0, 1, 1, 0, 0, 0, 0, 1, 0, 0, 0, 0, 1, 1, 0, 1, 1,\n",
       "        1, 1, 1, 0, 0, 1, 1, 0, 1, 1, 1, 0, 0, 0, 0, 0, 1, 0, 1, 0, 1, 1, 0, 1,\n",
       "        0, 1, 1, 0, 0, 1, 1, 0, 1, 1, 0, 0, 1, 1, 1, 1, 1, 1, 1, 1, 1, 1, 1, 1,\n",
       "        0, 0, 1, 0, 0, 0, 1, 1, 0, 1, 1, 1, 0, 1, 1, 0, 0, 1, 1, 1, 0, 1, 0, 0,\n",
       "        0, 0, 0, 0, 0, 0, 1, 0, 0, 0, 1, 0, 1, 0, 0, 1, 0, 1, 1, 1, 0, 1, 0, 1,\n",
       "        1, 0, 1, 1, 1, 0, 0, 1, 1, 0, 1, 0, 1, 0, 0, 1, 1, 0, 1, 1, 0, 1, 0, 0,\n",
       "        0, 1, 0, 1, 1, 1, 0, 1, 0, 0, 1, 1, 1, 1, 1, 1, 0, 1, 0, 1, 1, 0, 0, 0,\n",
       "        1, 1, 0, 0, 0, 0, 1, 1, 1, 1, 1, 0, 1, 0, 1, 0, 0, 1, 0, 1, 1, 0, 1, 0,\n",
       "        1, 0, 0, 1, 1, 1, 0, 0, 0, 1, 0, 1, 1, 1, 1, 0, 1, 1, 0, 0, 0, 0, 0, 0,\n",
       "        1, 1, 1, 0, 1, 1, 0, 1, 1, 1, 0, 1, 1, 1, 0, 1, 0, 0, 0, 0, 0, 1, 0, 1,\n",
       "        0, 1, 0, 1, 0, 1, 0, 0, 0, 1, 0, 0, 1, 0, 0, 0, 1, 0, 0, 1, 1, 0, 1, 0])"
      ]
     },
     "execution_count": 76,
     "metadata": {},
     "output_type": "execute_result"
    }
   ],
   "source": [
    "example_game.y_nodes"
   ]
  },
  {
   "cell_type": "markdown",
   "metadata": {},
   "source": [
    "### Output 2: Winning strategies\n",
    "\n",
    "A **1** means that the edge belongs to a winning strategy"
   ]
  },
  {
   "cell_type": "markdown",
   "metadata": {},
   "source": [
    "**Predicted winning strategy**"
   ]
  },
  {
   "cell_type": "code",
   "execution_count": 77,
   "metadata": {},
   "outputs": [
    {
     "data": {
      "text/plain": [
       "tensor([[  0,   2,   3,   4,   6,   7,   8,   9,  10,  11,  12,  13,  15,  16,\n",
       "          17,  18,  19,  20,  21,  22,  23,  24,  25,  26,  28,  29,  31,  33,\n",
       "          34,  35,  36,  37,  40,  41,  42,  44,  45,  46,  47,  48,  49,  50,\n",
       "          51,  52,  53,  54,  55,  56,  57,  58,  59,  60,  61,  62,  63,  64,\n",
       "          65,  66,  67,  68,  69,  70,  71,  72,  73,  74,  75,  76,  77,  78,\n",
       "          79,  80,  81,  82,  83,  84,  85,  86,  87,  88,  89,  90,  91,  92,\n",
       "          93,  94,  95,  96,  97,  98,  99, 100, 101, 102, 103, 104, 105, 106,\n",
       "         107, 108, 109, 110, 111, 112, 113, 114, 115, 116, 117, 118, 119, 120,\n",
       "         121, 122, 123, 124, 125, 127, 128, 129, 130, 131, 132, 133, 135, 136,\n",
       "         137, 138, 139, 140, 141, 142, 143, 144, 145, 146, 147, 148, 149, 150,\n",
       "         151, 152, 153, 154, 155, 156, 157, 158, 159, 160, 161, 162, 163, 164,\n",
       "         165, 166, 167, 168, 169, 170, 171, 172, 173, 174, 175, 176, 177, 178,\n",
       "         179, 180, 181, 182, 183, 184, 185, 186, 187, 188, 189, 190, 191, 192,\n",
       "         193, 194, 195, 196, 197, 198, 199, 200, 201, 202, 203, 204, 205, 206,\n",
       "         207, 209, 210, 211, 212, 213, 214, 215, 216, 217, 218, 219, 220, 221,\n",
       "         222, 223, 224, 225, 226, 227, 228, 229, 230, 231, 232, 233, 234, 235,\n",
       "         236, 237, 238, 239, 240, 241, 242, 243, 244, 245, 246, 247, 248, 249,\n",
       "         250, 251, 252, 253, 254, 255, 256, 257, 258, 259, 260, 261, 262, 263,\n",
       "         264, 265, 266, 267, 268, 269, 270, 271, 272, 273, 274, 275, 276, 277,\n",
       "         278, 279, 280, 281, 282, 283, 284, 285, 286, 287, 288, 289, 290, 291,\n",
       "         292, 293, 294, 295, 296, 297, 298, 299, 301, 302, 303, 304, 305, 306,\n",
       "         307, 308, 309, 310, 311, 312, 313, 314, 315, 316, 317, 318, 319, 320,\n",
       "         321, 322, 323, 324, 325, 326, 327, 328, 329, 330, 331, 332, 333, 334,\n",
       "         335],\n",
       "        [ 17,   2,   3,  18,  18,   2,   3,  12,   9,   2,   2,   7,   5,   8,\n",
       "          17,   0,  18,  16,   2,   2,  24,  24,  24,  26,  23,  23,  25,  25,\n",
       "          33,  41,  24,  23,  28,  27,  29, 149,  65,  46,  56,  75,  74,  54,\n",
       "          71,  49,  67,  54,  76,  46,  85,  58,  65,  46,  45,  50,  69,  81,\n",
       "          65,  49,  85,  46,  69,  54,  54,  50,  46,  74,  45,  79,  66,  58,\n",
       "          65,  50,  92,  58, 173,  58,  85,  50,  78,  45,  65,  59,  63,  46,\n",
       "          58,  50,  50,  50,  51,  46,  82,  58, 138,  50,  58,  46,  46,  69,\n",
       "          45,  59,  58,  58,  58, 112,  59,  46,  58,  46,  51, 100,  50,  59,\n",
       "         105,  46,  61,  76, 139,  67, 128,  68,  83, 131,  60,  68,  54,  69,\n",
       "         137,  71, 139, 114,  46,  69,  46,  58,  45, 146,  45, 148, 149,  56,\n",
       "          46,  89, 153,  68,  46,  58,  46,  50,  58,  44,  54, 104,  46,  58,\n",
       "          46, 166,  58,  45,  45,  58, 171,  59, 173,  46,  58, 111, 177,  98,\n",
       "          58,  46,  65, 111,  46,  58,  56, 186,  49,  59,  56, 190,  46,  69,\n",
       "          55,  51, 195,  69, 206, 203, 208, 199, 205, 207, 205, 202, 205, 201,\n",
       "         208, 206, 208, 200, 205, 204, 203, 201, 225, 219, 238, 219, 217, 217,\n",
       "         234, 217, 216, 238, 226, 219, 220, 217, 221, 231, 218, 231, 232, 235,\n",
       "         219, 238, 238, 224, 227, 217, 243, 238, 244, 238, 246, 226, 269, 311,\n",
       "         219, 238, 220, 274, 233, 255, 216, 233, 258, 217, 219, 216, 246, 244,\n",
       "         217, 238, 225, 227, 220, 269, 242, 325, 216, 217, 216, 217, 276, 269,\n",
       "         217, 216, 217, 226, 216, 218, 222, 216, 286, 216, 226, 289, 227, 272,\n",
       "         250, 236, 218, 217, 296, 227, 256, 223, 219, 302, 221, 237, 237, 255,\n",
       "         216, 224, 229, 310, 219, 216, 313, 216, 247, 237, 220, 225, 216, 237,\n",
       "         233, 216, 218, 223, 325, 244, 237, 223, 243, 251, 226, 220, 238, 217,\n",
       "         335]])"
      ]
     },
     "execution_count": 77,
     "metadata": {},
     "output_type": "execute_result"
    }
   ],
   "source": [
    "example_game.edge_index[:,example_game.y_edges == 1]"
   ]
  },
  {
   "cell_type": "markdown",
   "metadata": {},
   "source": [
    "**Winning strategy from pgsolver**"
   ]
  },
  {
   "cell_type": "code",
   "execution_count": 78,
   "metadata": {},
   "outputs": [
    {
     "data": {
      "text/plain": [
       "tensor([[  9,   9,  20, 101, 117, 117, 138, 138, 138, 138, 292, 292, 292],\n",
       "        [ 12,  16,  16, 150,  51, 102,  71, 125, 153, 178, 250, 309, 334]])"
      ]
     },
     "execution_count": 78,
     "metadata": {},
     "output_type": "execute_result"
    }
   ],
   "source": [
    "example_game.edge_index[:,pred_edges == 1]"
   ]
  },
  {
   "cell_type": "code",
   "execution_count": 72,
   "metadata": {},
   "outputs": [
    {
     "data": {
      "text/plain": [
       "tensor(1)"
      ]
     },
     "execution_count": 72,
     "metadata": {},
     "output_type": "execute_result"
    }
   ],
   "source": [
    "max(pred_edges)"
   ]
  },
  {
   "cell_type": "code",
   "execution_count": 43,
   "metadata": {},
   "outputs": [
    {
     "data": {
      "text/plain": [
       "17852"
      ]
     },
     "execution_count": 43,
     "metadata": {},
     "output_type": "execute_result"
    }
   ],
   "source": [
    "example_game.y_edges.shape[0]"
   ]
  },
  {
   "cell_type": "code",
   "execution_count": null,
   "metadata": {},
   "outputs": [],
   "source": []
  }
 ],
 "metadata": {
  "kernelspec": {
   "display_name": "Python 3 (ipykernel)",
   "language": "python",
   "name": "python3"
  },
  "language_info": {
   "codemirror_mode": {
    "name": "ipython",
    "version": 3
   },
   "file_extension": ".py",
   "mimetype": "text/x-python",
   "name": "python",
   "nbconvert_exporter": "python",
   "pygments_lexer": "ipython3",
   "version": "3.9.13"
  }
 },
 "nbformat": 4,
 "nbformat_minor": 4
}
